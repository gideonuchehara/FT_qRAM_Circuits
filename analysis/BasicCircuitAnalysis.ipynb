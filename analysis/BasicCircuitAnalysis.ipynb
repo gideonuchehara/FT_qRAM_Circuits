{
 "cells": [
  {
   "cell_type": "code",
   "execution_count": null,
   "metadata": {},
   "outputs": [],
   "source": [
    "import pandas as pd\n",
    "import numpy as np\n",
    "import matplotlib.pyplot as plt\n",
    "from altair import Chart, X, Y, Axis, Scale, Color, Legend"
   ]
  },
  {
   "cell_type": "code",
   "execution_count": null,
   "metadata": {},
   "outputs": [],
   "source": [
    "df = pd.read_csv(\"../data/double_hybrid_bucket_basic_circuits.csv\")"
   ]
  },
  {
   "cell_type": "code",
   "execution_count": null,
   "metadata": {},
   "outputs": [],
   "source": [
    "df.columns"
   ]
  },
  {
   "cell_type": "code",
   "execution_count": null,
   "metadata": {},
   "outputs": [],
   "source": [
    "np.unique(df['n'])"
   ]
  },
  {
   "cell_type": "code",
   "execution_count": null,
   "metadata": {},
   "outputs": [],
   "source": [
    "df[np.logical_and(df['name'] == 'LargeWidthSmallDepth', df['n'] == 36)]['distill_distances']"
   ]
  },
  {
   "cell_type": "code",
   "execution_count": null,
   "metadata": {},
   "outputs": [],
   "source": [
    "grouped = df.groupby(by=['name', 'n'])"
   ]
  },
  {
   "cell_type": "code",
   "execution_count": null,
   "metadata": {},
   "outputs": [],
   "source": [
    "df[np.logical_and(df['n'] == 36, df['k'] == 0)][['n', 'q','name','total_time','total_phys_q']]"
   ]
  },
  {
   "cell_type": "code",
   "execution_count": null,
   "metadata": {},
   "outputs": [],
   "source": [
    "df[np.logical_and(df['n'] == 15, df['k'] == 0)][['n', 'q','name','total_time','total_phys_q']]"
   ]
  },
  {
   "cell_type": "code",
   "execution_count": null,
   "metadata": {},
   "outputs": [],
   "source": [
    "# Space vs. time tradeoff\n",
    "ldw = df[np.logical_or(df['name'] == 'LargeWidthSmallDepth', df['name'] == 'SmallWidthLargeDepth')]\n",
    "ldw = ldw[ldw['n'] == 36]\n",
    "\n",
    "bb = df[df['name'] == 'BucketBrigadeParallel']\n",
    "bb = bb[bb['n'] == 36]\n",
    "\n",
    "title = \"Surface code cost estimates for n = 36\"\n",
    "\n",
    "points = Chart(ldw, title=title).mark_circle(size=70).encode(\n",
    "                              x=X('q',\n",
    "                                  scale=Scale(domain=[25,36]),\n",
    "                                  axis=Axis(title=\"q\")),\n",
    "                              y=Y('total_cost',\n",
    "                                  scale=Scale(domain=[48,62]),\n",
    "                                  axis=Axis(title=\"log2(Total cost)\")),\n",
    "                              color=Color('name', legend=Legend(title=\"Circuit\")))\n",
    "\n",
    "rules = Chart(bb).mark_rule().encode(y='total_cost', \n",
    "                              shape='name', color=Color('name', legend=Legend(title=\"Circuit\")))\n",
    "\n",
    "points + rules\n"
   ]
  },
  {
   "cell_type": "code",
   "execution_count": null,
   "metadata": {},
   "outputs": [],
   "source": [
    "# Space vs. time tradeoff\n",
    "bb = df[[df['name'][i][0:6] != \"Double\" and df['name'][i][0:6] != \"Hybrid\" for i in range(df.shape[0])]]\n",
    "bb = bb[np.logical_or(bb['name'] == 'BucketBrigadeParallel', bb['q'] == bb['n'] - 1)]\n",
    "#bb = df[np.logical_or(df['name'] == \"BucketBrigade\", np.logical_or(df['name'] == \"BucketBrigadeParallel\", df['q'] == df['n'] - 1))]\n",
    "\n",
    "Chart(bb, name=\"space_v_time_basic_bucket\", title=\"Space vs. time tradeoff (q = n - 1)\").mark_point(size=50).encode(x=X('total_phys_q',\n",
    "                                  scale=Scale(type='log', domain=[1e3,1e17]),\n",
    "                                  axis=Axis(title=\"Physical qubits\", \n",
    "                                            format=\"e\", tickCount= 6)),\n",
    "                              y=Y('total_time',\n",
    "                                  scale=Scale(type='log'),\n",
    "                                  axis=Axis(title=\"Time (s)\",\n",
    "                                            format=\"e\")),\n",
    "                               shape='name',                                                                                     \n",
    "                              color=Color('name', legend=Legend(title=\"Circuit\"))\n",
    "                              )"
   ]
  },
  {
   "cell_type": "code",
   "execution_count": null,
   "metadata": {},
   "outputs": [],
   "source": []
  }
 ],
 "metadata": {
  "kernelspec": {
   "display_name": "Python 3",
   "language": "python",
   "name": "python3"
  },
  "language_info": {
   "codemirror_mode": {
    "name": "ipython",
    "version": 3
   },
   "file_extension": ".py",
   "mimetype": "text/x-python",
   "name": "python",
   "nbconvert_exporter": "python",
   "pygments_lexer": "ipython3",
   "version": "3.6.6"
  }
 },
 "nbformat": 4,
 "nbformat_minor": 2
}
