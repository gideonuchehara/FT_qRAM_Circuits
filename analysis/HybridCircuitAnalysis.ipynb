{
 "cells": [
  {
   "cell_type": "code",
   "execution_count": null,
   "metadata": {},
   "outputs": [],
   "source": [
    "import pandas as pd\n",
    "import numpy as np\n",
    "import matplotlib.pyplot as plt\n",
    "from altair import Chart, X,Y, Axis, Scale, Color, Legend, Shape"
   ]
  },
  {
   "cell_type": "code",
   "execution_count": null,
   "metadata": {},
   "outputs": [],
   "source": [
    "df = pd.read_csv(\"../data/double_hybrid_bucket_basic_circuits.csv\")"
   ]
  },
  {
   "cell_type": "code",
   "execution_count": null,
   "metadata": {},
   "outputs": [],
   "source": [
    "# Space vs. time tradeoff for n = 15, q = 10 (a relatively small, sparse qRAM)\n",
    "hybrids = df[np.logical_and([df['name'][i] == \"Hybrid_Parallel\" for i in range(df.shape[0])], np.logical_and(df['n'] == 15, df['q'] == 10))]\n",
    "\n",
    "nonhybrids = df[np.logical_and([df['name'][i][0:6] != \"Hybrid\" and df['name'][i][0:6] != \"Double\" for i in range(df.shape[0])], np.logical_and(df['n'] == 15, np.logical_or(df['q'] == 10, df['q'] == 0)))]\n",
    "nonhybrids = nonhybrids[nonhybrids['name'] != \"BucketBrigade\"]\n",
    "nonhybrids = nonhybrids[nonhybrids['name'] != \"SmallWidthLargeDepth\"]\n",
    "\n",
    "lines = Chart(hybrids, name=\"space_v_time_basic_bucket\", title=\"Space vs. time tradeoff (n = 15, q = 10)\").mark_point(size=50).encode(x=X('total_phys_q',\n",
    "                                  scale=Scale(type='log'),\n",
    "                                  axis=Axis(title=\"Physical qubits\",\n",
    "                                            format=\"e\", tickCount=6)),\n",
    "                              y=Y('total_time',\n",
    "                                  scale=Scale(type='log'),\n",
    "                                  axis=Axis(title=\"Time (s)\",\n",
    "                                            format=\"e\")),\n",
    "                               shape='name',                                                                                     \n",
    "                              color=Color('name', legend=Legend(title=\"Circuit\"))\n",
    "                              )\n",
    "\n",
    "points = Chart(nonhybrids).mark_point(size=100).encode(x=X('total_phys_q'), y=('total_time'), shape='name', color='name')\n",
    "\n",
    "lines + points"
   ]
  },
  {
   "cell_type": "code",
   "execution_count": null,
   "metadata": {},
   "outputs": [],
   "source": [
    "# Space vs. time tradeoff for n = 36, q = 30 (a large but sparse qRAM)\n",
    "hybrids = df[np.logical_and([df['name'][i] == \"Hybrid_Parallel\" for i in range(df.shape[0])], np.logical_and(df['n'] == 36, df['q'] == 30))]\n",
    "\n",
    "nonhybrids = df[np.logical_and([df['name'][i][0:6] != \"Hybrid\" and df['name'][i][0:6] != \"Double\" for i in range(df.shape[0])], np.logical_and(df['n'] == 36, np.logical_or(df['q'] == 30, df['q'] == 0)))]\n",
    "nonhybrids = nonhybrids[nonhybrids['name'] != \"BucketBrigade\"]\n",
    "nonhybrids = nonhybrids[nonhybrids['name'] != \"SmallWidthLargeDepth\"]\n",
    "\n",
    "lines = Chart(hybrids, name=\"space_v_time_basic_bucket\", title=\"Space vs. time tradeoff (n = 36, q = 30)\").mark_point(size=50).encode(x=X('total_phys_q',\n",
    "                                  scale=Scale(type='log'),\n",
    "                                  axis=Axis(title=\"Physical qubits\",\n",
    "                                            format=\"e\", tickCount=6)),\n",
    "                              y=Y('total_time',\n",
    "                                  scale=Scale(type='log'),\n",
    "                                  axis=Axis(title=\"Time (s)\",\n",
    "                                            format=\"e\")),\n",
    "                               shape='name',                                                                                     \n",
    "                              color=Color('name', legend=Legend(title=\"Circuit\"))\n",
    "                              )\n",
    "\n",
    "points = Chart(nonhybrids).mark_point(size=100).encode(x=X('total_phys_q'), y=('total_time'), shape='name', color='name')\n",
    "\n",
    "lines + points"
   ]
  },
  {
   "cell_type": "code",
   "execution_count": null,
   "metadata": {},
   "outputs": [],
   "source": [
    "# Space vs. time tradeoff for n = 36, q = 35 (as shown in the paper)\n",
    "hybrids = df[np.logical_and([df['name'][i] == \"Hybrid_Parallel\" for i in range(df.shape[0])], np.logical_and(df['n'] == 36, df['q'] == 35))]\n",
    "\n",
    "nonhybrids = df[np.logical_and([df['name'][i][0:6] != \"Hybrid\" and df['name'][i][0:6] != \"Double\" for i in range(df.shape[0])], np.logical_and(df['n'] == 36, np.logical_or(df['q'] == 35, df['q'] == 0)))]\n",
    "nonhybrids = nonhybrids[nonhybrids['name'] != \"BucketBrigade\"]\n",
    "nonhybrids = nonhybrids[nonhybrids['name'] != \"SmallWidthLargeDepth\"]\n",
    "\n",
    "lines = Chart(hybrids, name=\"space_v_time_basic_bucket\", title=\"Space vs. time tradeoff (n = 36, q = 35)\").mark_point(size=50).encode(x=X('total_phys_q',\n",
    "                                  scale=Scale(type='log'),\n",
    "                                  axis=Axis(title=\"Physical qubits\",\n",
    "                                            format=\"e\", tickCount=6)),\n",
    "                              y=Y('total_time',\n",
    "                                  scale=Scale(type='log'),\n",
    "                                  axis=Axis(title=\"Time (s)\",\n",
    "                                            format=\"e\")),\n",
    "                               shape='name',                                                                                     \n",
    "                              color=Color('name', legend=Legend(title=\"Circuit\"))\n",
    "                              )\n",
    "\n",
    "points = Chart(nonhybrids).mark_point(size=100).encode(x=X('total_phys_q'), y=('total_time'), shape='name', color='name')\n",
    "\n",
    "lines + points"
   ]
  },
  {
   "cell_type": "code",
   "execution_count": null,
   "metadata": {},
   "outputs": [],
   "source": [
    "# Look only at the parallel hybrid and see how it varies with k\n",
    "hybrids = df[np.logical_and([df['name'][i] == \"Hybrid_Parallel\" for i in range(df.shape[0])], np.logical_and(df['n'] == 36, df['q'] == 30))]\n",
    "\n",
    "Chart(hybrids, name=\"space_v_time_basic_bucket\", title=\"Space vs. time tradeoff (n = 36, q = 30)\").mark_point(size=50).encode(x=X('total_phys_q',\n",
    "                                  scale=Scale(\n",
    "                                              domain=[1e13,5e13]),\n",
    "                                  axis=Axis(title=\"Physical qubits\",\n",
    "                                            format=\"e\", tickCount=6)),\n",
    "                              y=Y('total_time',\n",
    "                                  axis=Axis(title=\"Time (s)\",\n",
    "                                            format=\"e\")),\n",
    "                               shape='name',                                                                                     \n",
    "                              color=Color('k', legend=Legend(title=\"k\"))\n",
    "                              )"
   ]
  },
  {
   "cell_type": "code",
   "execution_count": null,
   "metadata": {},
   "outputs": [],
   "source": [
    "# Surface code cost estimates for n = 36, q = 35\n",
    "ldw = df[np.logical_or(df['name'] == 'LargeWidthSmallDepth', df['name'] == 'SmallWidthLargeDepth')]\n",
    "ldw = ldw[np.logical_and(ldw['n'] == 36, ldw['q'] == 35)]\n",
    "\n",
    "bb = df[df['name'] == 'BucketBrigadeParallel']\n",
    "bb = bb[bb['n'] == 36]\n",
    "\n",
    "hybrid = df[[df['name'][i] == \"Hybrid_Parallel\" for i in range(df.shape[0])]]\n",
    "hybrid = hybrid[np.logical_and(hybrid['n'] == 36, hybrid['q'] == 35)]\n",
    "\n",
    "title = \"Surface code cost estimates for n = 36, q = 35\"\n",
    "\n",
    "points = Chart(hybrid, title=title).mark_point(size=50).encode(\n",
    "                              x=X('k',\n",
    "                                  scale=Scale(domain=[3,34]),\n",
    "                                  axis=Axis(title=\"k\")),\n",
    "                              y=Y('total_cost',\n",
    "                                  scale=Scale(domain=[54,59]),\n",
    "                                  axis=Axis(title=\"log2(Total cost)\")), shape='name',\n",
    "                              color=Color('name', legend=Legend(title=\"Circuit\")))\n",
    "\n",
    "rules_ldw = Chart(ldw).mark_rule().encode(y='total_cost', color=Color('name', legend=Legend(title=\"Circuit\")))\n",
    "rules_bb = Chart(bb).mark_rule(strokeDash=[7, 2]).encode(y='total_cost', color=Color('name', legend=Legend(title=\"Circuit\")))\n",
    "\n",
    "points + rules_ldw + rules_bb"
   ]
  },
  {
   "cell_type": "code",
   "execution_count": null,
   "metadata": {},
   "outputs": [],
   "source": [
    "# Surface code cost estimates for n = 36, q = 30\n",
    "ldw = df[np.logical_or(df['name'] == 'LargeWidthSmallDepth', df['name'] == 'SmallWidthLargeDepth')]\n",
    "ldw = ldw[np.logical_and(ldw['n'] == 36, ldw['q'] == 30)]\n",
    "\n",
    "bb = df[df['name'] == 'BucketBrigadeParallel']\n",
    "bb = bb[bb['n'] == 36]\n",
    "\n",
    "hybrid = df[[df['name'][i] == \"Hybrid_Parallel\" for i in range(df.shape[0])]]\n",
    "hybrid = hybrid[np.logical_and(hybrid['n'] == 36, hybrid['q'] == 30)]\n",
    "\n",
    "title = \"Surface code cost estimates for n = 36, q = 30\"\n",
    "\n",
    "points = Chart(hybrid, title=title).mark_point(size=50).encode(\n",
    "                              x=X('k',\n",
    "                                  scale=Scale(domain=[2,34]),\n",
    "                                  axis=Axis(title=\"k\")),\n",
    "                              y=Y('total_cost',\n",
    "                                  scale=Scale(domain=[50,55]),\n",
    "                                  axis=Axis(title=\"log2(Total cost)\")),\n",
    "                              shape='name',\n",
    "                              color=Color('name', legend=Legend(title=\"Circuit\")))\n",
    "\n",
    "rules_ldw = Chart(ldw).mark_rule().encode(y='total_cost', \n",
    "                              shape='name', color=Color('name', legend=Legend(title=\"Circuit\")))\n",
    "rules_bb = Chart(bb).mark_rule(strokeDash=[7, 2]).encode(y='total_cost', \n",
    "                              shape='name', color=Color('name', legend=Legend(title=\"Circuit\")))\n",
    "\n",
    "points + rules_ldw + rules_bb"
   ]
  }
 ],
 "metadata": {
  "kernelspec": {
   "display_name": "Python 3",
   "language": "python",
   "name": "python3"
  },
  "language_info": {
   "codemirror_mode": {
    "name": "ipython",
    "version": 3
   },
   "file_extension": ".py",
   "mimetype": "text/x-python",
   "name": "python",
   "nbconvert_exporter": "python",
   "pygments_lexer": "ipython3",
   "version": "3.6.5"
  }
 },
 "nbformat": 4,
 "nbformat_minor": 2
}
